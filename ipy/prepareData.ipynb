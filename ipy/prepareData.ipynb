{
 "cells": [
  {
   "cell_type": "markdown",
   "metadata": {},
   "source": [
    "#### Docker command\n",
    "docker run -it -p 127.0.0.1:8887:8888 -v ~/workspace/sequenceSLAM/src/ipy:/workspace -v ~/dataset/:/workspace/dataset/ souravgarg/opencv-python-udacity-caffe:cpu"
   ]
  },
  {
   "cell_type": "code",
   "execution_count": null,
   "metadata": {
    "collapsed": false
   },
   "outputs": [],
   "source": [
    "import numpy as np\n",
    "import os\n",
    "import StringIO\n",
    "import cv2\n",
    "from matplotlib import pyplot as plt\n",
    "%matplotlib inline"
   ]
  },
  {
   "cell_type": "markdown",
   "metadata": {},
   "source": [
    "#### Set up input/output for annotations"
   ]
  },
  {
   "cell_type": "code",
   "execution_count": null,
   "metadata": {
    "collapsed": false
   },
   "outputs": [],
   "source": [
    "folderPath = '../../dataset/transient_attributes/annotations/'\n",
    "if os.path.exists(folderPath) is False:\n",
    "    print(\"Folder path doesn't exist.\")\n",
    "    \n",
    "attributes = np.loadtxt(folderPath+'attributes.txt',dtype='str')\n",
    "\n",
    "annotationsFileName = folderPath+'annotations.tsv'\n",
    "\n",
    "# Col 1 is file name, col 2-41 are attributes, splitting each attribute column 'score,conf'\n",
    "# Hence, an att index i has its score at 2i+1 and conf at 2i+1\n",
    "s = open(annotationsFileName).read().replace(',','\\t')\n",
    "annotations = np.loadtxt(StringIO.StringIO(s),dtype='str')\n"
   ]
  },
  {
   "cell_type": "markdown",
   "metadata": {},
   "source": [
    "#### Set up input/output for images "
   ]
  },
  {
   "cell_type": "code",
   "execution_count": null,
   "metadata": {
    "collapsed": false
   },
   "outputs": [],
   "source": [
    "folderPath2 = '../../dataset/transient_attributes/imageAlignedLD/'\n",
    "if os.path.exists(folderPath2) is False:\n",
    "    print(\"Folder path doesn't exist.\")\n",
    "\n",
    "folderPath3 = '../../dataset/transient_attributes/outData/'\n",
    "os.mkdir(folderPath3+'train/')\n",
    "os.mkdir(folderPath3+'val/')\n",
    "os.mkdir(folderPath3+'test/')\n",
    "\n",
    "outImgNamesFile = 'concatImgsList.txt'"
   ]
  },
  {
   "cell_type": "markdown",
   "metadata": {},
   "source": [
    "#### Collect unique webcams "
   ]
  },
  {
   "cell_type": "code",
   "execution_count": null,
   "metadata": {
    "collapsed": false
   },
   "outputs": [],
   "source": [
    "allCams = annotations[:,0]\n",
    "allCams = [os.path.split(elem)[0] for elem in allCams.tolist()]\n",
    "uniCams, retIdx = np.unique(allCams,return_index=True)\n",
    "\n",
    "# check if retIdx is ordered\n",
    "if (np.sum(np.subtract(np.sort(retIdx),retIdx))) == 0:\n",
    "    print(\"cam folders are in order, retIdx can be used as splitting range for cam folder images\")\n",
    "else:\n",
    "    print(\"WARNING: cam folders not in order\")\n",
    "\n",
    "camFolderAnnot = np.split(annotations,retIdx[1:])\n",
    "print(len(camFolderAnnot))"
   ]
  },
  {
   "cell_type": "markdown",
   "metadata": {},
   "source": [
    "#### Set up variables "
   ]
  },
  {
   "cell_type": "code",
   "execution_count": null,
   "metadata": {
    "collapsed": true
   },
   "outputs": [],
   "source": [
    "desiredAttributes = [1,2] # attributes in attributes.txt, 1 is for daylight, 2 for night etc...\n",
    "minConf = 5 # min confidence votes to consider the image\n",
    "minScore = 0.8 # min score (0 to 1) to consider the image"
   ]
  },
  {
   "cell_type": "markdown",
   "metadata": {},
   "source": [
    "#### Collect the image names for desired attribute based on confidence and score values "
   ]
  },
  {
   "cell_type": "code",
   "execution_count": null,
   "metadata": {
    "collapsed": false
   },
   "outputs": [],
   "source": [
    "def getIndicesForDesiredAttribute(inputArr,desiredAtt,minScore,minConf):\n",
    "    index = 2*desiredAtt+1\n",
    "    # select the columns that fulfil the minScore and minConf conditions\n",
    "    val = np.greater_equal( inputArr[:,index:index+2].astype(float), \\\n",
    "               np.tile(np.array([[minScore,minConf]]),(inputArr.shape[0],1)).astype(float) \\\n",
    "              )\n",
    "    # ANDing the score and conf comparison\n",
    "    selIndices = val[:,0] * val[:,1]\n",
    "#     print(inputArr[selIndices,0])\n",
    "#     return selIndices\n",
    "    return inputArr[selIndices,0] # return the image names "
   ]
  },
  {
   "cell_type": "code",
   "execution_count": null,
   "metadata": {
    "collapsed": false
   },
   "outputs": [],
   "source": [
    "# Loop over all desired attributes\n",
    "desiredImgs = []\n",
    "numImgs = []\n",
    "for att in desiredAttributes:\n",
    "    print(\"Processing desired attribte \",att)\n",
    "    # collect the image names for each of the cam folders, as list of ndarrays\n",
    "    imgsList =  [getIndicesForDesiredAttribute(camFolderAnnot[i],att,minScore,minConf) \\\n",
    "                   for i in range(len(camFolderAnnot))] \n",
    "    desiredImgs.append(imgsList)\n",
    "    num = np.array([arr.shape[0] for arr in imgsList])\n",
    "    print(\"Number of images for each cam folder\",num)\n",
    "    numImgs.append(num)"
   ]
  },
  {
   "cell_type": "markdown",
   "metadata": {},
   "source": [
    "#### Create pairs of image names for selected attribute pair "
   ]
  },
  {
   "cell_type": "code",
   "execution_count": null,
   "metadata": {
    "collapsed": false
   },
   "outputs": [],
   "source": [
    "imgPairIndices = []\n",
    "numPairs = 0\n",
    "for index in range(numImgs[0].shape[0]):\n",
    "    \n",
    "    # Lesser and greater indices are required to choose with or without replacement respectively\n",
    "    greaterIdx = 0\n",
    "    lesserIdx = 1\n",
    "    \n",
    "    # If any of cam folders have one of the attribute images count equal to zero\n",
    "    if numImgs[0][index] == 0 or numImgs[1][index] == 0:\n",
    "        imgPairIndices.append([])\n",
    "        continue\n",
    "    \n",
    "    # Set the indices\n",
    "    if numImgs[0][index] < numImgs[1][index]:\n",
    "        greaterIdx = 1\n",
    "        lesserIdx = 0\n",
    "        \n",
    "    # Get the random indices from both the attributes\n",
    "    ind1 = np.random.choice(desiredImgs[greaterIdx][index],replace=False,size=numImgs[lesserIdx][index])\n",
    "    ind2 = np.random.choice(desiredImgs[lesserIdx][index],replace=False,size=numImgs[lesserIdx][index])\n",
    "    \n",
    "    # Zip the pair values\n",
    "    if greaterIdx == 0:\n",
    "        imgPairIndices.append(zip(ind1,ind2))\n",
    "    else:\n",
    "        imgPairIndices.append(zip(ind2,ind1))\n",
    "    \n",
    "    numPairs += ind1.shape[0]\n",
    "    \n",
    "print(\"Total number of image pairs generated - \", numPairs)"
   ]
  },
  {
   "cell_type": "markdown",
   "metadata": {},
   "source": [
    "#### Read images "
   ]
  },
  {
   "cell_type": "code",
   "execution_count": null,
   "metadata": {
    "collapsed": false
   },
   "outputs": [],
   "source": [
    "counter = 0\n",
    "concatImgs = []\n",
    "trainNum = 0.65*numPairs\n",
    "valNum = 0.15*numPairs\n",
    "testNum = numPairs - trainNum - valNum\n",
    "\n",
    "for idx,arr in enumerate(imgPairIndices):\n",
    "    print(\"Processing cam folder\",idx)\n",
    "    for pair in arr:\n",
    "\n",
    "        img1 = cv2.imread(folderPath2+str(pair[0]))\n",
    "        img2 = cv2.imread(folderPath2+str(pair[1]))\n",
    "        \n",
    "        img1 = cv2.resize(img1,(256,256))\n",
    "        img2 = cv2.resize(img2,(256,256))\n",
    "        \n",
    "        imgPair = np.hstack([img1,img2])#cv2.hconcat(img1,img2)\n",
    "        \n",
    "        concatImgNames.append(pair)       \n",
    "        \n",
    "        writePath = folderPath3\n",
    "        if counter < trainNum:\n",
    "            writePath += 'train/'\n",
    "        elif counter < (trainNum+valNum):\n",
    "            writePath += 'val/'\n",
    "        else:\n",
    "            writePath += 'test/'\n",
    "            \n",
    "        cv2.imwrite(writePath+str(counter)+'.jpg',imgPair)\n",
    "        \n",
    "        counter += 1\n",
    "        \n",
    "#         plt.imshow(img1)\n",
    "#         plt.show()\n",
    "\n",
    "np.savetxt(folderPath3+outImgNamesFile,concatImgNames,fmt='%s')"
   ]
  },
  {
   "cell_type": "code",
   "execution_count": null,
   "metadata": {
    "collapsed": true
   },
   "outputs": [],
   "source": []
  }
 ],
 "metadata": {
  "kernelspec": {
   "display_name": "Python 2",
   "language": "python",
   "name": "python2"
  },
  "language_info": {
   "codemirror_mode": {
    "name": "ipython",
    "version": 2
   },
   "file_extension": ".py",
   "mimetype": "text/x-python",
   "name": "python",
   "nbconvert_exporter": "python",
   "pygments_lexer": "ipython2",
   "version": "2.7.6"
  }
 },
 "nbformat": 4,
 "nbformat_minor": 0
}
