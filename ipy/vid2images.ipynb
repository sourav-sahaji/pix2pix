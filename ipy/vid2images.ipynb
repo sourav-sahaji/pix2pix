{
 "cells": [
  {
   "cell_type": "markdown",
   "metadata": {},
   "source": [
    "#### Docker command\n",
    "docker run -it -p 127.0.0.1:8887:8888 -v ~/workspace/sequenceSLAM/src/ipy:/workspace -v ~/dataset/:/workspace/dataset/ souravgarg/opencv-python-udacity-caffe:cpu\n",
    "\n",
    "nvidia-docker run -it -p 192.168.5.78:8887:8888 -v ~/workspace/dataset/:/workspace/dataset/ -v ~/workspace/:/workspace/ caffe-gpu-jupyter-opencv"
   ]
  },
  {
   "cell_type": "code",
   "execution_count": 1,
   "metadata": {
    "collapsed": true
   },
   "outputs": [],
   "source": [
    "import numpy as np\n",
    "import cv2\n",
    "import os"
   ]
  },
  {
   "cell_type": "markdown",
   "metadata": {},
   "source": [
    "#### Initial setup"
   ]
  },
  {
   "cell_type": "code",
   "execution_count": null,
   "metadata": {
    "collapsed": false
   },
   "outputs": [],
   "source": [
    "vidFolderPath = '../../dataset/slamData/surfers-paradise/'\n",
    "vidName = 'night.avi'\n",
    "\n",
    "if os.path.exists(vidFolderPath) is False:\n",
    "    print(\"video path doesn't exist...\")\n",
    "    \n",
    "imgOutPath = '../datasets/testData/surfers-paradise/' + vidName[:-4] + '/'\n",
    "skipNum = 100    "
   ]
  },
  {
   "cell_type": "markdown",
   "metadata": {},
   "source": [
    "#### Read video and save it as images "
   ]
  },
  {
   "cell_type": "code",
   "execution_count": null,
   "metadata": {
    "collapsed": false
   },
   "outputs": [],
   "source": [
    "cap = cv2.VideoCapture(vidFolderPath+vidName)\n",
    "numImages = int(cap.get(cv2.CAP_PROP_FRAME_COUNT))\n",
    "print(\"Num Images = \", numImages)\n",
    "\n",
    "imgCounter = 0\n",
    "for i in range(numImages):\n",
    "    ret, img = cap.read()\n",
    "    \n",
    "    if ret is False:\n",
    "        print(\"read %d images, no more images...\"%imgCounter)\n",
    "        break\n",
    "    else:\n",
    "        imgCounter += 1\n",
    "        img = cv2.resize(img,(256,256))\n",
    "        cv2.imwrite(imgOutPath+str(imgCounter)+'.png',img)\n",
    "\n",
    "        if imgCounter % 10 == 0:\n",
    "            print(\"%d images read\"%imgCounter)\n",
    "        skipCount = 0\n",
    "        while skipCount < (skipNum-1):\n",
    "            skipCount += 1\n",
    "            _ = cap.grab()"
   ]
  },
  {
   "cell_type": "markdown",
   "metadata": {},
   "source": [
    "#### images2vid "
   ]
  },
  {
   "cell_type": "code",
   "execution_count": 2,
   "metadata": {
    "collapsed": false
   },
   "outputs": [],
   "source": [
    "imgFolderPath = '../../dataset/slamData/surfers-paradise/transAtt/day/'\n",
    "\n",
    "if os.path.exists(imgFolderPath) is False:\n",
    "    print(\"folder path doesn't exist...\")\n",
    "   \n",
    "outVidPath = '../../dataset/slamData/surfers-paradise/transAtt/'\n",
    "outVidName = 'day.avi'"
   ]
  },
  {
   "cell_type": "markdown",
   "metadata": {},
   "source": [
    "#### convert "
   ]
  },
  {
   "cell_type": "code",
   "execution_count": 3,
   "metadata": {
    "collapsed": false
   },
   "outputs": [],
   "source": [
    "cap2 = cv2.VideoWriter(outVidPath+outVidName,cv2.VideoWriter_fourcc(*'MPEG'),10,(256,256))\n",
    "\n",
    "counter=0\n",
    "while True:\n",
    "    counter += 1\n",
    "    frame = cv2.imread(imgFolderPath+str(counter)+'.png')\n",
    "    if frame is None:\n",
    "        break\n",
    "    else:\n",
    "        cap2.write(frame)"
   ]
  }
 ],
 "metadata": {
  "kernelspec": {
   "display_name": "Python 2",
   "language": "python",
   "name": "python2"
  },
  "language_info": {
   "codemirror_mode": {
    "name": "ipython",
    "version": 2
   },
   "file_extension": ".py",
   "mimetype": "text/x-python",
   "name": "python",
   "nbconvert_exporter": "python",
   "pygments_lexer": "ipython2",
   "version": "2.7.6"
  }
 },
 "nbformat": 4,
 "nbformat_minor": 1
}
